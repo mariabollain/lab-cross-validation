{
 "cells": [
  {
   "cell_type": "code",
   "execution_count": 26,
   "id": "9982889f",
   "metadata": {},
   "outputs": [],
   "source": [
    "import pandas as pd\n",
    "import numpy as np\n",
    "import warnings\n",
    "\n",
    "import seaborn as sns\n",
    "import matplotlib.pyplot as plt\n",
    "\n",
    "from sklearn.model_selection import train_test_split\n",
    "from sklearn.linear_model import LogisticRegression\n",
    "from sklearn.tree import DecisionTreeClassifier\n",
    "from sklearn.metrics import classification_report\n",
    "from sklearn.metrics import cohen_kappa_score \n",
    "\n",
    "from imblearn.over_sampling import SMOTE\n",
    "from imblearn.under_sampling import TomekLinks\n",
    "\n",
    "warnings.filterwarnings('ignore')"
   ]
  },
  {
   "cell_type": "code",
   "execution_count": 2,
   "id": "b65ed5bd",
   "metadata": {},
   "outputs": [],
   "source": [
    "def run_model(model, X, y):\n",
    "    X_train, X_test, y_train, y_test = train_test_split(X, y, test_size=0.3, random_state=100)\n",
    "    \n",
    "    model.fit(X_train,y_train)\n",
    "    predictions  = model.predict(X_test)\n",
    "   \n",
    "    print(classification_report(y_test, predictions))\n",
    "    print(\"The Kappa of your model is: %4.2f\" % (cohen_kappa_score(y_test, predictions)))\n",
    "\n",
    "    return"
   ]
  },
  {
   "cell_type": "code",
   "execution_count": 3,
   "id": "a79060f9",
   "metadata": {},
   "outputs": [
    {
     "data": {
      "text/html": [
       "<div>\n",
       "<style scoped>\n",
       "    .dataframe tbody tr th:only-of-type {\n",
       "        vertical-align: middle;\n",
       "    }\n",
       "\n",
       "    .dataframe tbody tr th {\n",
       "        vertical-align: top;\n",
       "    }\n",
       "\n",
       "    .dataframe thead th {\n",
       "        text-align: right;\n",
       "    }\n",
       "</style>\n",
       "<table border=\"1\" class=\"dataframe\">\n",
       "  <thead>\n",
       "    <tr style=\"text-align: right;\">\n",
       "      <th></th>\n",
       "      <th>gender</th>\n",
       "      <th>SeniorCitizen</th>\n",
       "      <th>Partner</th>\n",
       "      <th>Dependents</th>\n",
       "      <th>tenure</th>\n",
       "      <th>PhoneService</th>\n",
       "      <th>OnlineSecurity</th>\n",
       "      <th>OnlineBackup</th>\n",
       "      <th>DeviceProtection</th>\n",
       "      <th>TechSupport</th>\n",
       "      <th>StreamingTV</th>\n",
       "      <th>StreamingMovies</th>\n",
       "      <th>Contract</th>\n",
       "      <th>MonthlyCharges</th>\n",
       "      <th>TotalCharges</th>\n",
       "      <th>Churn</th>\n",
       "    </tr>\n",
       "  </thead>\n",
       "  <tbody>\n",
       "    <tr>\n",
       "      <th>0</th>\n",
       "      <td>Female</td>\n",
       "      <td>0</td>\n",
       "      <td>Yes</td>\n",
       "      <td>No</td>\n",
       "      <td>1</td>\n",
       "      <td>No</td>\n",
       "      <td>No</td>\n",
       "      <td>Yes</td>\n",
       "      <td>No</td>\n",
       "      <td>No</td>\n",
       "      <td>No</td>\n",
       "      <td>No</td>\n",
       "      <td>Month-to-month</td>\n",
       "      <td>29.85</td>\n",
       "      <td>29.85</td>\n",
       "      <td>No</td>\n",
       "    </tr>\n",
       "    <tr>\n",
       "      <th>1</th>\n",
       "      <td>Male</td>\n",
       "      <td>0</td>\n",
       "      <td>No</td>\n",
       "      <td>No</td>\n",
       "      <td>34</td>\n",
       "      <td>Yes</td>\n",
       "      <td>Yes</td>\n",
       "      <td>No</td>\n",
       "      <td>Yes</td>\n",
       "      <td>No</td>\n",
       "      <td>No</td>\n",
       "      <td>No</td>\n",
       "      <td>One year</td>\n",
       "      <td>56.95</td>\n",
       "      <td>1889.5</td>\n",
       "      <td>No</td>\n",
       "    </tr>\n",
       "    <tr>\n",
       "      <th>2</th>\n",
       "      <td>Male</td>\n",
       "      <td>0</td>\n",
       "      <td>No</td>\n",
       "      <td>No</td>\n",
       "      <td>2</td>\n",
       "      <td>Yes</td>\n",
       "      <td>Yes</td>\n",
       "      <td>Yes</td>\n",
       "      <td>No</td>\n",
       "      <td>No</td>\n",
       "      <td>No</td>\n",
       "      <td>No</td>\n",
       "      <td>Month-to-month</td>\n",
       "      <td>53.85</td>\n",
       "      <td>108.15</td>\n",
       "      <td>Yes</td>\n",
       "    </tr>\n",
       "    <tr>\n",
       "      <th>3</th>\n",
       "      <td>Male</td>\n",
       "      <td>0</td>\n",
       "      <td>No</td>\n",
       "      <td>No</td>\n",
       "      <td>45</td>\n",
       "      <td>No</td>\n",
       "      <td>Yes</td>\n",
       "      <td>No</td>\n",
       "      <td>Yes</td>\n",
       "      <td>Yes</td>\n",
       "      <td>No</td>\n",
       "      <td>No</td>\n",
       "      <td>One year</td>\n",
       "      <td>42.30</td>\n",
       "      <td>1840.75</td>\n",
       "      <td>No</td>\n",
       "    </tr>\n",
       "    <tr>\n",
       "      <th>4</th>\n",
       "      <td>Female</td>\n",
       "      <td>0</td>\n",
       "      <td>No</td>\n",
       "      <td>No</td>\n",
       "      <td>2</td>\n",
       "      <td>Yes</td>\n",
       "      <td>No</td>\n",
       "      <td>No</td>\n",
       "      <td>No</td>\n",
       "      <td>No</td>\n",
       "      <td>No</td>\n",
       "      <td>No</td>\n",
       "      <td>Month-to-month</td>\n",
       "      <td>70.70</td>\n",
       "      <td>151.65</td>\n",
       "      <td>Yes</td>\n",
       "    </tr>\n",
       "  </tbody>\n",
       "</table>\n",
       "</div>"
      ],
      "text/plain": [
       "   gender  SeniorCitizen Partner Dependents  tenure PhoneService  \\\n",
       "0  Female              0     Yes         No       1           No   \n",
       "1    Male              0      No         No      34          Yes   \n",
       "2    Male              0      No         No       2          Yes   \n",
       "3    Male              0      No         No      45           No   \n",
       "4  Female              0      No         No       2          Yes   \n",
       "\n",
       "  OnlineSecurity OnlineBackup DeviceProtection TechSupport StreamingTV  \\\n",
       "0             No          Yes               No          No          No   \n",
       "1            Yes           No              Yes          No          No   \n",
       "2            Yes          Yes               No          No          No   \n",
       "3            Yes           No              Yes         Yes          No   \n",
       "4             No           No               No          No          No   \n",
       "\n",
       "  StreamingMovies        Contract  MonthlyCharges TotalCharges Churn  \n",
       "0              No  Month-to-month           29.85        29.85    No  \n",
       "1              No        One year           56.95       1889.5    No  \n",
       "2              No  Month-to-month           53.85       108.15   Yes  \n",
       "3              No        One year           42.30      1840.75    No  \n",
       "4              No  Month-to-month           70.70       151.65   Yes  "
      ]
     },
     "execution_count": 3,
     "metadata": {},
     "output_type": "execute_result"
    }
   ],
   "source": [
    "data = pd.read_csv(\"files_for_lab/Customer-Churn.csv\")\n",
    "data.head()"
   ]
  },
  {
   "cell_type": "code",
   "execution_count": 4,
   "id": "10778cf3",
   "metadata": {},
   "outputs": [
    {
     "data": {
      "text/plain": [
       "(7043, 16)"
      ]
     },
     "execution_count": 4,
     "metadata": {},
     "output_type": "execute_result"
    }
   ],
   "source": [
    "data.shape"
   ]
  },
  {
   "cell_type": "code",
   "execution_count": 5,
   "id": "33f2d89d",
   "metadata": {},
   "outputs": [
    {
     "name": "stdout",
     "output_type": "stream",
     "text": [
      "<class 'pandas.core.frame.DataFrame'>\n",
      "RangeIndex: 7043 entries, 0 to 7042\n",
      "Data columns (total 16 columns):\n",
      " #   Column            Non-Null Count  Dtype  \n",
      "---  ------            --------------  -----  \n",
      " 0   gender            7043 non-null   object \n",
      " 1   SeniorCitizen     7043 non-null   int64  \n",
      " 2   Partner           7043 non-null   object \n",
      " 3   Dependents        7043 non-null   object \n",
      " 4   tenure            7043 non-null   int64  \n",
      " 5   PhoneService      7043 non-null   object \n",
      " 6   OnlineSecurity    7043 non-null   object \n",
      " 7   OnlineBackup      7043 non-null   object \n",
      " 8   DeviceProtection  7043 non-null   object \n",
      " 9   TechSupport       7043 non-null   object \n",
      " 10  StreamingTV       7043 non-null   object \n",
      " 11  StreamingMovies   7043 non-null   object \n",
      " 12  Contract          7043 non-null   object \n",
      " 13  MonthlyCharges    7043 non-null   float64\n",
      " 14  TotalCharges      7043 non-null   object \n",
      " 15  Churn             7043 non-null   object \n",
      "dtypes: float64(1), int64(2), object(13)\n",
      "memory usage: 880.5+ KB\n"
     ]
    }
   ],
   "source": [
    "data.info()"
   ]
  },
  {
   "cell_type": "code",
   "execution_count": 6,
   "id": "46d07515",
   "metadata": {},
   "outputs": [
    {
     "data": {
      "text/plain": [
       "gender               0\n",
       "SeniorCitizen        0\n",
       "Partner              0\n",
       "Dependents           0\n",
       "tenure               0\n",
       "PhoneService         0\n",
       "OnlineSecurity       0\n",
       "OnlineBackup         0\n",
       "DeviceProtection     0\n",
       "TechSupport          0\n",
       "StreamingTV          0\n",
       "StreamingMovies      0\n",
       "Contract             0\n",
       "MonthlyCharges       0\n",
       "TotalCharges        11\n",
       "Churn                0\n",
       "dtype: int64"
      ]
     },
     "execution_count": 6,
     "metadata": {},
     "output_type": "execute_result"
    }
   ],
   "source": [
    "data[\"TotalCharges\"] = data[\"TotalCharges\"].apply(lambda x: np.nan if x == \" \" else x)\n",
    "data[\"TotalCharges\"] = pd.to_numeric(data[\"TotalCharges\"])\n",
    "data.isna().sum()"
   ]
  },
  {
   "cell_type": "code",
   "execution_count": 7,
   "id": "9a831b32",
   "metadata": {},
   "outputs": [
    {
     "data": {
      "text/plain": [
       "(7032, 16)"
      ]
     },
     "execution_count": 7,
     "metadata": {},
     "output_type": "execute_result"
    }
   ],
   "source": [
    "data = data.dropna()\n",
    "data.shape"
   ]
  },
  {
   "cell_type": "code",
   "execution_count": 8,
   "id": "cead6ade",
   "metadata": {},
   "outputs": [],
   "source": [
    "# X-y split\n",
    "X = data.drop(\"Churn\", axis=1)\n",
    "y = data[[\"Churn\"]]"
   ]
  },
  {
   "cell_type": "code",
   "execution_count": 9,
   "id": "398b3bc9",
   "metadata": {},
   "outputs": [
    {
     "data": {
      "text/plain": [
       "Churn\n",
       "No       5163\n",
       "Yes      1869\n",
       "dtype: int64"
      ]
     },
     "execution_count": 9,
     "metadata": {},
     "output_type": "execute_result"
    }
   ],
   "source": [
    "y.value_counts()"
   ]
  },
  {
   "cell_type": "markdown",
   "id": "ffe4f9fa",
   "metadata": {},
   "source": [
    "**Encode categoricals**"
   ]
  },
  {
   "cell_type": "code",
   "execution_count": 10,
   "id": "12f5332c",
   "metadata": {},
   "outputs": [
    {
     "data": {
      "image/png": "[encoded data removed]",
      "text/plain": [
       "<Figure size 640x480 with 1 Axes>"
      ]
     },
     "metadata": {},
     "output_type": "display_data"
    },
    {
     "data": {
      "image/png": "[encoded data removed]",
      "text/plain": [
       "<Figure size 640x480 with 1 Axes>"
      ]
     },
     "metadata": {},
     "output_type": "display_data"
    },
    {
     "data": {
      "image/png": "[encoded data removed]",
      "text/plain": [
       "<Figure size 640x480 with 1 Axes>"
      ]
     },
     "metadata": {},
     "output_type": "display_data"
    },
    {
     "data": {
      "image/png": "[encoded data removed]",
      "text/plain": [
       "<Figure size 640x480 with 1 Axes>"
      ]
     },
     "metadata": {},
     "output_type": "display_data"
    },
    {
     "data": {
      "image/png": "[encoded data removed]",
      "text/plain": [
       "<Figure size 640x480 with 1 Axes>"
      ]
     },
     "metadata": {},
     "output_type": "display_data"
    },
    {
     "data": {
      "image/png": "[encoded data removed]",
      "text/plain": [
       "<Figure size 640x480 with 1 Axes>"
      ]
     },
     "metadata": {},
     "output_type": "display_data"
    },
    {
     "data": {
      "image/png": "[encoded data removed]",
      "text/plain": [
       "<Figure size 640x480 with 1 Axes>"
      ]
     },
     "metadata": {},
     "output_type": "display_data"
    },
    {
     "data": {
      "image/png": "[encoded data removed]",
      "text/plain": [
       "<Figure size 640x480 with 1 Axes>"
      ]
     },
     "metadata": {},
     "output_type": "display_data"
    },
    {
     "data": {
      "image/png": "[encoded data removed]",
      "text/plain": [
       "<Figure size 640x480 with 1 Axes>"
      ]
     },
     "metadata": {},
     "output_type": "display_data"
    },
    {
     "data": {
      "image/png": "[encoded data removed]",
      "text/plain": [
       "<Figure size 640x480 with 1 Axes>"
      ]
     },
     "metadata": {},
     "output_type": "display_data"
    },
    {
     "data": {
      "image/png": "[encoded data removed]",
      "text/plain": [
       "<Figure size 640x480 with 1 Axes>"
      ]
     },
     "metadata": {},
     "output_type": "display_data"
    }
   ],
   "source": [
    "for col in X.select_dtypes(object).columns:\n",
    "    sns.countplot(X[col])\n",
    "    plt.show()"
   ]
  },
  {
   "cell_type": "code",
   "execution_count": 11,
   "id": "4e8e19ea",
   "metadata": {},
   "outputs": [
    {
     "data": {
      "text/html": [
       "<div>\n",
       "<style scoped>\n",
       "    .dataframe tbody tr th:only-of-type {\n",
       "        vertical-align: middle;\n",
       "    }\n",
       "\n",
       "    .dataframe tbody tr th {\n",
       "        vertical-align: top;\n",
       "    }\n",
       "\n",
       "    .dataframe thead th {\n",
       "        text-align: right;\n",
       "    }\n",
       "</style>\n",
       "<table border=\"1\" class=\"dataframe\">\n",
       "  <thead>\n",
       "    <tr style=\"text-align: right;\">\n",
       "      <th></th>\n",
       "      <th>SeniorCitizen</th>\n",
       "      <th>Partner</th>\n",
       "      <th>Dependents</th>\n",
       "      <th>tenure</th>\n",
       "      <th>PhoneService</th>\n",
       "      <th>MonthlyCharges</th>\n",
       "      <th>TotalCharges</th>\n",
       "      <th>gender_Female</th>\n",
       "      <th>gender_Male</th>\n",
       "      <th>OnlineSecurity_No</th>\n",
       "      <th>...</th>\n",
       "      <th>TechSupport_Yes</th>\n",
       "      <th>StreamingTV_No</th>\n",
       "      <th>StreamingTV_No internet service</th>\n",
       "      <th>StreamingTV_Yes</th>\n",
       "      <th>StreamingMovies_No</th>\n",
       "      <th>StreamingMovies_No internet service</th>\n",
       "      <th>StreamingMovies_Yes</th>\n",
       "      <th>Contract_Month-to-month</th>\n",
       "      <th>Contract_One year</th>\n",
       "      <th>Contract_Two year</th>\n",
       "    </tr>\n",
       "  </thead>\n",
       "  <tbody>\n",
       "    <tr>\n",
       "      <th>0</th>\n",
       "      <td>0</td>\n",
       "      <td>1</td>\n",
       "      <td>0</td>\n",
       "      <td>1</td>\n",
       "      <td>0</td>\n",
       "      <td>29.85</td>\n",
       "      <td>29.85</td>\n",
       "      <td>1</td>\n",
       "      <td>0</td>\n",
       "      <td>1</td>\n",
       "      <td>...</td>\n",
       "      <td>0</td>\n",
       "      <td>1</td>\n",
       "      <td>0</td>\n",
       "      <td>0</td>\n",
       "      <td>1</td>\n",
       "      <td>0</td>\n",
       "      <td>0</td>\n",
       "      <td>1</td>\n",
       "      <td>0</td>\n",
       "      <td>0</td>\n",
       "    </tr>\n",
       "    <tr>\n",
       "      <th>1</th>\n",
       "      <td>0</td>\n",
       "      <td>0</td>\n",
       "      <td>0</td>\n",
       "      <td>34</td>\n",
       "      <td>1</td>\n",
       "      <td>56.95</td>\n",
       "      <td>1889.50</td>\n",
       "      <td>0</td>\n",
       "      <td>1</td>\n",
       "      <td>0</td>\n",
       "      <td>...</td>\n",
       "      <td>0</td>\n",
       "      <td>1</td>\n",
       "      <td>0</td>\n",
       "      <td>0</td>\n",
       "      <td>1</td>\n",
       "      <td>0</td>\n",
       "      <td>0</td>\n",
       "      <td>0</td>\n",
       "      <td>1</td>\n",
       "      <td>0</td>\n",
       "    </tr>\n",
       "    <tr>\n",
       "      <th>2</th>\n",
       "      <td>0</td>\n",
       "      <td>0</td>\n",
       "      <td>0</td>\n",
       "      <td>2</td>\n",
       "      <td>1</td>\n",
       "      <td>53.85</td>\n",
       "      <td>108.15</td>\n",
       "      <td>0</td>\n",
       "      <td>1</td>\n",
       "      <td>0</td>\n",
       "      <td>...</td>\n",
       "      <td>0</td>\n",
       "      <td>1</td>\n",
       "      <td>0</td>\n",
       "      <td>0</td>\n",
       "      <td>1</td>\n",
       "      <td>0</td>\n",
       "      <td>0</td>\n",
       "      <td>1</td>\n",
       "      <td>0</td>\n",
       "      <td>0</td>\n",
       "    </tr>\n",
       "    <tr>\n",
       "      <th>3</th>\n",
       "      <td>0</td>\n",
       "      <td>0</td>\n",
       "      <td>0</td>\n",
       "      <td>45</td>\n",
       "      <td>0</td>\n",
       "      <td>42.30</td>\n",
       "      <td>1840.75</td>\n",
       "      <td>0</td>\n",
       "      <td>1</td>\n",
       "      <td>0</td>\n",
       "      <td>...</td>\n",
       "      <td>1</td>\n",
       "      <td>1</td>\n",
       "      <td>0</td>\n",
       "      <td>0</td>\n",
       "      <td>1</td>\n",
       "      <td>0</td>\n",
       "      <td>0</td>\n",
       "      <td>0</td>\n",
       "      <td>1</td>\n",
       "      <td>0</td>\n",
       "    </tr>\n",
       "    <tr>\n",
       "      <th>4</th>\n",
       "      <td>0</td>\n",
       "      <td>0</td>\n",
       "      <td>0</td>\n",
       "      <td>2</td>\n",
       "      <td>1</td>\n",
       "      <td>70.70</td>\n",
       "      <td>151.65</td>\n",
       "      <td>1</td>\n",
       "      <td>0</td>\n",
       "      <td>1</td>\n",
       "      <td>...</td>\n",
       "      <td>0</td>\n",
       "      <td>1</td>\n",
       "      <td>0</td>\n",
       "      <td>0</td>\n",
       "      <td>1</td>\n",
       "      <td>0</td>\n",
       "      <td>0</td>\n",
       "      <td>1</td>\n",
       "      <td>0</td>\n",
       "      <td>0</td>\n",
       "    </tr>\n",
       "  </tbody>\n",
       "</table>\n",
       "<p>5 rows × 30 columns</p>\n",
       "</div>"
      ],
      "text/plain": [
       "   SeniorCitizen  Partner  Dependents  tenure  PhoneService  MonthlyCharges  \\\n",
       "0              0        1           0       1             0           29.85   \n",
       "1              0        0           0      34             1           56.95   \n",
       "2              0        0           0       2             1           53.85   \n",
       "3              0        0           0      45             0           42.30   \n",
       "4              0        0           0       2             1           70.70   \n",
       "\n",
       "   TotalCharges  gender_Female  gender_Male  OnlineSecurity_No  ...  \\\n",
       "0         29.85              1            0                  1  ...   \n",
       "1       1889.50              0            1                  0  ...   \n",
       "2        108.15              0            1                  0  ...   \n",
       "3       1840.75              0            1                  0  ...   \n",
       "4        151.65              1            0                  1  ...   \n",
       "\n",
       "   TechSupport_Yes  StreamingTV_No  StreamingTV_No internet service  \\\n",
       "0                0               1                                0   \n",
       "1                0               1                                0   \n",
       "2                0               1                                0   \n",
       "3                1               1                                0   \n",
       "4                0               1                                0   \n",
       "\n",
       "   StreamingTV_Yes  StreamingMovies_No  StreamingMovies_No internet service  \\\n",
       "0                0                   1                                    0   \n",
       "1                0                   1                                    0   \n",
       "2                0                   1                                    0   \n",
       "3                0                   1                                    0   \n",
       "4                0                   1                                    0   \n",
       "\n",
       "   StreamingMovies_Yes  Contract_Month-to-month  Contract_One year  \\\n",
       "0                    0                        1                  0   \n",
       "1                    0                        0                  1   \n",
       "2                    0                        1                  0   \n",
       "3                    0                        0                  1   \n",
       "4                    0                        1                  0   \n",
       "\n",
       "   Contract_Two year  \n",
       "0                  0  \n",
       "1                  0  \n",
       "2                  0  \n",
       "3                  0  \n",
       "4                  0  \n",
       "\n",
       "[5 rows x 30 columns]"
      ]
     },
     "execution_count": 11,
     "metadata": {},
     "output_type": "execute_result"
    }
   ],
   "source": [
    "# Binomial columns\n",
    "\n",
    "binomial_cols = ['Partner', 'Dependents', 'PhoneService']\n",
    "\n",
    "for col in binomial_cols:\n",
    "    X[col] = X[col].apply(lambda x: 1 if x == \"Yes\" else 0)\n",
    "    \n",
    "# Rest of categorical columns\n",
    "\n",
    "X = pd.get_dummies(X)\n",
    "X.head()"
   ]
  },
  {
   "cell_type": "markdown",
   "id": "0ca657a3",
   "metadata": {},
   "source": [
    "### 1. Apply SMOTE for upsampling the data"
   ]
  },
  {
   "cell_type": "code",
   "execution_count": 12,
   "id": "4582c723",
   "metadata": {},
   "outputs": [
    {
     "data": {
      "text/plain": [
       "Churn\n",
       "No       5163\n",
       "Yes      5163\n",
       "dtype: int64"
      ]
     },
     "execution_count": 12,
     "metadata": {},
     "output_type": "execute_result"
    }
   ],
   "source": [
    "smote = SMOTE()\n",
    "X_sm, y_sm = smote.fit_resample(X, y)\n",
    "y_sm.value_counts()"
   ]
  },
  {
   "cell_type": "markdown",
   "id": "fb4b6d82",
   "metadata": {},
   "source": [
    "- **Use logistic regression to fit the model and compute the accuracy of the model.**"
   ]
  },
  {
   "cell_type": "code",
   "execution_count": 13,
   "id": "b5f23e35",
   "metadata": {},
   "outputs": [
    {
     "name": "stdout",
     "output_type": "stream",
     "text": [
      "              precision    recall  f1-score   support\n",
      "\n",
      "          No       0.82      0.82      0.82      1531\n",
      "         Yes       0.83      0.83      0.83      1567\n",
      "\n",
      "    accuracy                           0.83      3098\n",
      "   macro avg       0.83      0.83      0.83      3098\n",
      "weighted avg       0.83      0.83      0.83      3098\n",
      "\n",
      "The Kappa of your model is: 0.65\n"
     ]
    }
   ],
   "source": [
    "model = LogisticRegression()\n",
    "run_model(model, X_sm, y_sm)"
   ]
  },
  {
   "cell_type": "markdown",
   "id": "ab5cd2e3",
   "metadata": {},
   "source": [
    "- **Use decision tree classifier to fit the model and compute the accuracy of the model.**"
   ]
  },
  {
   "cell_type": "code",
   "execution_count": 14,
   "id": "c450ed71",
   "metadata": {},
   "outputs": [
    {
     "name": "stdout",
     "output_type": "stream",
     "text": [
      "              precision    recall  f1-score   support\n",
      "\n",
      "          No       0.80      0.79      0.79      1531\n",
      "         Yes       0.80      0.80      0.80      1567\n",
      "\n",
      "    accuracy                           0.80      3098\n",
      "   macro avg       0.80      0.80      0.80      3098\n",
      "weighted avg       0.80      0.80      0.80      3098\n",
      "\n",
      "The Kappa of your model is: 0.59\n"
     ]
    }
   ],
   "source": [
    "model = DecisionTreeClassifier()\n",
    "run_model(model, X_sm, y_sm)"
   ]
  },
  {
   "cell_type": "code",
   "execution_count": 15,
   "id": "1415b562",
   "metadata": {},
   "outputs": [
    {
     "data": {
      "text/plain": [
       "29"
      ]
     },
     "execution_count": 15,
     "metadata": {},
     "output_type": "execute_result"
    }
   ],
   "source": [
    "model.get_depth()"
   ]
  },
  {
   "cell_type": "code",
   "execution_count": 16,
   "id": "cc40ea91",
   "metadata": {},
   "outputs": [
    {
     "name": "stdout",
     "output_type": "stream",
     "text": [
      "              precision    recall  f1-score   support\n",
      "\n",
      "          No       0.81      0.81      0.81      1531\n",
      "         Yes       0.81      0.81      0.81      1567\n",
      "\n",
      "    accuracy                           0.81      3098\n",
      "   macro avg       0.81      0.81      0.81      3098\n",
      "weighted avg       0.81      0.81      0.81      3098\n",
      "\n",
      "The Kappa of your model is: 0.62\n"
     ]
    }
   ],
   "source": [
    "model = DecisionTreeClassifier(criterion=\"entropy\", random_state=30)\n",
    "run_model(model, X_sm, y_sm)"
   ]
  },
  {
   "cell_type": "code",
   "execution_count": 17,
   "id": "fbcf7b05",
   "metadata": {},
   "outputs": [
    {
     "data": {
      "text/plain": [
       "31"
      ]
     },
     "execution_count": 17,
     "metadata": {},
     "output_type": "execute_result"
    }
   ],
   "source": [
    "model.get_depth()"
   ]
  },
  {
   "cell_type": "code",
   "execution_count": 18,
   "id": "5293c06d",
   "metadata": {},
   "outputs": [
    {
     "name": "stdout",
     "output_type": "stream",
     "text": [
      "              precision    recall  f1-score   support\n",
      "\n",
      "          No       0.80      0.79      0.80      1531\n",
      "         Yes       0.80      0.80      0.80      1567\n",
      "\n",
      "    accuracy                           0.80      3098\n",
      "   macro avg       0.80      0.80      0.80      3098\n",
      "weighted avg       0.80      0.80      0.80      3098\n",
      "\n",
      "The Kappa of your model is: 0.60\n"
     ]
    }
   ],
   "source": [
    "model = DecisionTreeClassifier(max_depth=20, random_state=30)\n",
    "run_model(model, X_sm, y_sm)"
   ]
  },
  {
   "cell_type": "markdown",
   "id": "d7bc0a39",
   "metadata": {},
   "source": [
    "- **Compare the accuracies of the two models.**"
   ]
  },
  {
   "cell_type": "markdown",
   "id": "90529801",
   "metadata": {},
   "source": [
    "Better results with logistic regression."
   ]
  },
  {
   "cell_type": "markdown",
   "id": "024c92b0",
   "metadata": {},
   "source": [
    "### 2. Apply TomekLinks for downsampling\n",
    "- **It is important to remember that it does not make the two classes equal but only removes the points from the majority class that are close to other points in minority class.**"
   ]
  },
  {
   "cell_type": "code",
   "execution_count": 19,
   "id": "1f8a6fd9",
   "metadata": {},
   "outputs": [
    {
     "data": {
      "text/plain": [
       "Churn\n",
       "No       4597\n",
       "Yes      1869\n",
       "dtype: int64"
      ]
     },
     "execution_count": 19,
     "metadata": {},
     "output_type": "execute_result"
    }
   ],
   "source": [
    "tl = TomekLinks(sampling_strategy='majority')\n",
    "X_tl, y_tl = tl.fit_resample(X, y)\n",
    "y_tl.value_counts()"
   ]
  },
  {
   "cell_type": "markdown",
   "id": "6d478276",
   "metadata": {},
   "source": [
    "- **Use logistic regression to fit the model and compute the accuracy of the model.**"
   ]
  },
  {
   "cell_type": "code",
   "execution_count": 20,
   "id": "912d42ec",
   "metadata": {},
   "outputs": [
    {
     "name": "stdout",
     "output_type": "stream",
     "text": [
      "              precision    recall  f1-score   support\n",
      "\n",
      "          No       0.84      0.88      0.86      1352\n",
      "         Yes       0.69      0.62      0.65       588\n",
      "\n",
      "    accuracy                           0.80      1940\n",
      "   macro avg       0.76      0.75      0.75      1940\n",
      "weighted avg       0.79      0.80      0.80      1940\n",
      "\n",
      "The Kappa of your model is: 0.51\n"
     ]
    }
   ],
   "source": [
    "model = LogisticRegression()\n",
    "run_model(model, X_tl, y_tl)"
   ]
  },
  {
   "cell_type": "markdown",
   "id": "ac9a07d8",
   "metadata": {},
   "source": [
    "- **Use decision tree classifier to fit the model and compute the accuracy of the model.**"
   ]
  },
  {
   "cell_type": "code",
   "execution_count": 21,
   "id": "26db1e17",
   "metadata": {},
   "outputs": [
    {
     "name": "stdout",
     "output_type": "stream",
     "text": [
      "              precision    recall  f1-score   support\n",
      "\n",
      "          No       0.81      0.82      0.81      1352\n",
      "         Yes       0.57      0.57      0.57       588\n",
      "\n",
      "    accuracy                           0.74      1940\n",
      "   macro avg       0.69      0.69      0.69      1940\n",
      "weighted avg       0.74      0.74      0.74      1940\n",
      "\n",
      "The Kappa of your model is: 0.39\n"
     ]
    }
   ],
   "source": [
    "model = DecisionTreeClassifier()\n",
    "run_model(model, X_tl, y_tl)"
   ]
  },
  {
   "cell_type": "code",
   "execution_count": 22,
   "id": "14b49948",
   "metadata": {},
   "outputs": [
    {
     "data": {
      "text/plain": [
       "30"
      ]
     },
     "execution_count": 22,
     "metadata": {},
     "output_type": "execute_result"
    }
   ],
   "source": [
    "model.get_depth()"
   ]
  },
  {
   "cell_type": "code",
   "execution_count": 23,
   "id": "0094a9ac",
   "metadata": {},
   "outputs": [
    {
     "name": "stdout",
     "output_type": "stream",
     "text": [
      "              precision    recall  f1-score   support\n",
      "\n",
      "          No       0.81      0.81      0.81      1352\n",
      "         Yes       0.57      0.56      0.56       588\n",
      "\n",
      "    accuracy                           0.74      1940\n",
      "   macro avg       0.69      0.69      0.69      1940\n",
      "weighted avg       0.74      0.74      0.74      1940\n",
      "\n",
      "The Kappa of your model is: 0.37\n"
     ]
    }
   ],
   "source": [
    "model = DecisionTreeClassifier(random_state=30)\n",
    "run_model(model, X_tl, y_tl)"
   ]
  },
  {
   "cell_type": "code",
   "execution_count": 24,
   "id": "f88e34a5",
   "metadata": {},
   "outputs": [
    {
     "name": "stdout",
     "output_type": "stream",
     "text": [
      "              precision    recall  f1-score   support\n",
      "\n",
      "          No       0.80      0.81      0.81      1352\n",
      "         Yes       0.55      0.55      0.55       588\n",
      "\n",
      "    accuracy                           0.73      1940\n",
      "   macro avg       0.68      0.68      0.68      1940\n",
      "weighted avg       0.73      0.73      0.73      1940\n",
      "\n",
      "The Kappa of your model is: 0.36\n"
     ]
    }
   ],
   "source": [
    "model = DecisionTreeClassifier(criterion=\"entropy\", random_state=30)\n",
    "run_model(model, X_tl, y_tl)"
   ]
  },
  {
   "cell_type": "code",
   "execution_count": 25,
   "id": "24b76ab7",
   "metadata": {},
   "outputs": [
    {
     "name": "stdout",
     "output_type": "stream",
     "text": [
      "              precision    recall  f1-score   support\n",
      "\n",
      "          No       0.80      0.82      0.81      1352\n",
      "         Yes       0.57      0.54      0.55       588\n",
      "\n",
      "    accuracy                           0.74      1940\n",
      "   macro avg       0.69      0.68      0.68      1940\n",
      "weighted avg       0.73      0.74      0.73      1940\n",
      "\n",
      "The Kappa of your model is: 0.37\n"
     ]
    }
   ],
   "source": [
    "model = DecisionTreeClassifier(max_depth=20, random_state=30)\n",
    "run_model(model, X_tl, y_tl)"
   ]
  },
  {
   "cell_type": "markdown",
   "id": "e0f39a87",
   "metadata": {},
   "source": [
    "- **Compare the accuracies of the two models.**"
   ]
  },
  {
   "cell_type": "markdown",
   "id": "7f745dc1",
   "metadata": {},
   "source": [
    "As previously, better results with logistic regression."
   ]
  },
  {
   "cell_type": "markdown",
   "id": "0ab9add6",
   "metadata": {},
   "source": [
    "- **You can also apply this algorithm one more time and check how the imbalance in the two classes changed from the last time.**"
   ]
  },
  {
   "cell_type": "code",
   "execution_count": 27,
   "id": "cc828fad",
   "metadata": {},
   "outputs": [
    {
     "data": {
      "text/plain": [
       "Churn\n",
       "No       4432\n",
       "Yes      1869\n",
       "dtype: int64"
      ]
     },
     "execution_count": 27,
     "metadata": {},
     "output_type": "execute_result"
    }
   ],
   "source": [
    "X_tl2, y_tl2 = tl.fit_resample(X_tl, y_tl)\n",
    "y_tl2.value_counts()"
   ]
  },
  {
   "cell_type": "markdown",
   "id": "07720ddb",
   "metadata": {},
   "source": [
    "The imbalance is slightly smaller. Initially we had 26% of \"Yes\". After applying TomekLinks once, this percentage went up to 29%. Then, after applying TomekLinks a second time, the \"Yes\" class has gone up to 30%. But these improvements are very small. <br>\n",
    "In the previous lab the best results were obtained with a combination of Tomek Links and SMOTE."
   ]
  },
  {
   "cell_type": "markdown",
   "id": "6e302268",
   "metadata": {},
   "source": [
    "**Combination of Tomek Links and SMOTE** "
   ]
  },
  {
   "cell_type": "code",
   "execution_count": 34,
   "id": "ecb58ff0",
   "metadata": {},
   "outputs": [
    {
     "data": {
      "text/plain": [
       "Churn\n",
       "No       4597\n",
       "Yes      4597\n",
       "dtype: int64"
      ]
     },
     "execution_count": 34,
     "metadata": {},
     "output_type": "execute_result"
    }
   ],
   "source": [
    "# 1. Tomeklinks on the majority (already done)\n",
    "# 2. Upsample minority with SMOTE\n",
    "\n",
    "X_tl_sm, y_tl_sm = smote.fit_resample(X_tl, y_tl)\n",
    "y_tl_sm.value_counts()"
   ]
  },
  {
   "cell_type": "code",
   "execution_count": 35,
   "id": "da6866b4",
   "metadata": {},
   "outputs": [
    {
     "name": "stdout",
     "output_type": "stream",
     "text": [
      "              precision    recall  f1-score   support\n",
      "\n",
      "          No       0.82      0.82      0.82      1363\n",
      "         Yes       0.83      0.83      0.83      1396\n",
      "\n",
      "    accuracy                           0.82      2759\n",
      "   macro avg       0.82      0.82      0.82      2759\n",
      "weighted avg       0.82      0.82      0.82      2759\n",
      "\n",
      "The Kappa of your model is: 0.65\n"
     ]
    }
   ],
   "source": [
    "model = LogisticRegression()\n",
    "run_model(model, X_tl_sm, y_tl_sm)"
   ]
  },
  {
   "cell_type": "markdown",
   "id": "6197028b",
   "metadata": {},
   "source": [
    "The results with LR were better using only SMOTE."
   ]
  },
  {
   "cell_type": "code",
   "execution_count": 36,
   "id": "b5e1a07d",
   "metadata": {},
   "outputs": [
    {
     "name": "stdout",
     "output_type": "stream",
     "text": [
      "              precision    recall  f1-score   support\n",
      "\n",
      "          No       0.82      0.78      0.80      1363\n",
      "         Yes       0.80      0.83      0.82      1396\n",
      "\n",
      "    accuracy                           0.81      2759\n",
      "   macro avg       0.81      0.81      0.81      2759\n",
      "weighted avg       0.81      0.81      0.81      2759\n",
      "\n",
      "The Kappa of your model is: 0.62\n"
     ]
    }
   ],
   "source": [
    "model = DecisionTreeClassifier()\n",
    "run_model(model, X_tl_sm, y_tl_sm)"
   ]
  },
  {
   "cell_type": "markdown",
   "id": "04c561ca",
   "metadata": {},
   "source": [
    "However, the use of TL and SMOTE has improved the Decision Tree model (although it is still worse than LR)."
   ]
  },
  {
   "cell_type": "code",
   "execution_count": 37,
   "id": "5990320a",
   "metadata": {},
   "outputs": [
    {
     "data": {
      "text/plain": [
       "Churn\n",
       "Yes      4597\n",
       "No       4362\n",
       "dtype: int64"
      ]
     },
     "execution_count": 37,
     "metadata": {},
     "output_type": "execute_result"
    }
   ],
   "source": [
    "# 3. Apply Tomeklinks one more time to remove borderline cases\n",
    "\n",
    "X_tl_sm_tl, y_tl_sm_tl = tl.fit_resample(X_tl_sm, y_tl_sm)\n",
    "y_tl_sm_tl.value_counts()"
   ]
  },
  {
   "cell_type": "code",
   "execution_count": 38,
   "id": "105c1706",
   "metadata": {},
   "outputs": [
    {
     "name": "stdout",
     "output_type": "stream",
     "text": [
      "              precision    recall  f1-score   support\n",
      "\n",
      "          No       0.82      0.80      0.81      1300\n",
      "         Yes       0.82      0.84      0.83      1388\n",
      "\n",
      "    accuracy                           0.82      2688\n",
      "   macro avg       0.82      0.82      0.82      2688\n",
      "weighted avg       0.82      0.82      0.82      2688\n",
      "\n",
      "The Kappa of your model is: 0.64\n"
     ]
    }
   ],
   "source": [
    "model = LogisticRegression()\n",
    "run_model(model, X_tl_sm_tl, y_tl_sm_tl)"
   ]
  },
  {
   "cell_type": "code",
   "execution_count": 39,
   "id": "b8e02574",
   "metadata": {},
   "outputs": [
    {
     "name": "stdout",
     "output_type": "stream",
     "text": [
      "              precision    recall  f1-score   support\n",
      "\n",
      "          No       0.78      0.79      0.79      1300\n",
      "         Yes       0.80      0.79      0.80      1388\n",
      "\n",
      "    accuracy                           0.79      2688\n",
      "   macro avg       0.79      0.79      0.79      2688\n",
      "weighted avg       0.79      0.79      0.79      2688\n",
      "\n",
      "The Kappa of your model is: 0.58\n"
     ]
    }
   ],
   "source": [
    "model = DecisionTreeClassifier()\n",
    "run_model(model, X_tl_sm_tl, y_tl_sm_tl)"
   ]
  },
  {
   "cell_type": "markdown",
   "id": "3b58e04d",
   "metadata": {},
   "source": [
    "Not really good"
   ]
  },
  {
   "cell_type": "markdown",
   "id": "97b041d2",
   "metadata": {},
   "source": [
    "### Conclusion\n",
    "We have tried different methods to reduce imbalance (upsampling the minority with SMOTE, undersampling the majority with Tomek Links and a combination of both) and different models for classification (Logistic Regression and Decision Trees Classifier). <br>\n",
    "The best results were obtained using **SMOTE** and **Logistic Regression**. "
   ]
  },
  {
   "cell_type": "code",
   "execution_count": 41,
   "id": "39d41e54",
   "metadata": {},
   "outputs": [
    {
     "name": "stdout",
     "output_type": "stream",
     "text": [
      "              precision    recall  f1-score   support\n",
      "\n",
      "          No       0.82      0.82      0.82      1531\n",
      "         Yes       0.83      0.83      0.83      1567\n",
      "\n",
      "    accuracy                           0.83      3098\n",
      "   macro avg       0.83      0.83      0.83      3098\n",
      "weighted avg       0.83      0.83      0.83      3098\n",
      "\n",
      "The Kappa of your model is: 0.65\n"
     ]
    }
   ],
   "source": [
    "model = LogisticRegression()\n",
    "run_model(model, X_sm, y_sm)"
   ]
  },
  {
   "cell_type": "markdown",
   "id": "d485ebc6",
   "metadata": {},
   "source": [
    "Looking at the precision, recall and F1-score for both classes, \"No\" and \"Yes\", they are all around 0.82-0.83. This indicates that the model has a balanced performance for both classes. <br>\n",
    "Regarding the \"Yes\" class (customers that have churned), precision and recall are both 0.83. This means that when the model predicts \"Yes\", it is correct about 83% of the time, and it can identify 83% of the actual \"Yes\" customers.<br>\n",
    "The accuracy of the model is 0.83, which indicates that it correctly classifies 83% of the cases overall. <br>\n",
    "Lastly, the kappa coefficient of 0.65 suggests a substantial level of agreement beyond chance between the model and the actual observations. <br>\n",
    "Overall, these results indicate that the logistic regression model is performing well with balanced precision, recall, and F1-scores for both classes. The accuracy and kappa coefficient further support the model's effectiveness in capturing patterns and making accurate predictions."
   ]
  },
  {
   "cell_type": "code",
   "execution_count": null,
   "id": "52aca1b7",
   "metadata": {},
   "outputs": [],
   "source": []
  }
 ],
 "metadata": {
  "kernelspec": {
   "display_name": "Python 3 (ipykernel)",
   "language": "python",
   "name": "python3"
  },
  "language_info": {
   "codemirror_mode": {
    "name": "ipython",
    "version": 3
   },
   "file_extension": ".py",
   "mimetype": "text/x-python",
   "name": "python",
   "nbconvert_exporter": "python",
   "pygments_lexer": "ipython3",
   "version": "3.9.13"
  }
 },
 "nbformat": 4,
 "nbformat_minor": 5
}
